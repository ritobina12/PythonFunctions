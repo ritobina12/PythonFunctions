{
  "nbformat": 4,
  "nbformat_minor": 0,
  "metadata": {
    "colab": {
      "provenance": []
    },
    "kernelspec": {
      "name": "python3",
      "display_name": "Python 3"
    },
    "language_info": {
      "name": "python"
    }
  },
  "cells": [
    {
      "cell_type": "markdown",
      "source": [
        "**Python Assignment : Functions**\n",
        "\n",
        "**Theory Questions**\n",
        "1. What is the difference between a function and a method in Python?\n",
        "\n",
        "Answer:\n",
        "A function is an independent block of code that performs a specific task, while a method is a function that is associated with an object and defined within a class. Methods are called on objects and have access to the object's data.\n",
        "\n",
        "\n",
        "\n",
        "2. Explain the concept of function arguments and parameters in Python.\n",
        "\n",
        "Answer:\n",
        "Parameters are the variables listed inside the parentheses in the function definition, while arguments are the actual values passed to the function when it is called.\n",
        "\n",
        "Example:\n",
        "\n",
        "python\n",
        "def add(a, b):  # a and b are parameters\n",
        "    return a + b\n",
        "\n",
        "add(3, 5)  # 3 and 5 are arguments\n",
        "\n",
        "3. What are the different ways to define and call a function in Python?\n",
        "\n",
        "Answer:\n",
        "Functions can be defined using:\n",
        "\n",
        "def keyword for regular functions\n",
        "\n",
        "lambda for anonymous functions\n",
        "\n",
        "Functions can be called with:\n",
        "\n",
        "Positional arguments\n",
        "\n",
        "Keyword arguments\n",
        "\n",
        "Default arguments\n",
        "\n",
        "Variable-length arguments (*args, **kwargs)\n",
        "\n",
        "Examples:\n",
        "\n",
        " Definition:\n",
        "\n",
        "def func(x): return x*2\n",
        "lambda_func = lambda x: x*2\n",
        "\n",
        " Calling:\n",
        "\n",
        "func(2)  # positional\n",
        "func(x=2)  # keyword\n",
        "\n",
        "4. What is the purpose of the return statement in a Python function?\n",
        "\n",
        "Answer:\n",
        "The return statement exits a function and optionally passes back an expression to the caller. If no return statement is specified, the function returns None.\n",
        "\n",
        "Example:\n",
        "\n",
        "\n",
        "def square(x):\n",
        "    return x*x\n",
        "\n",
        "5. What are iterators in Python and how do they differ from iterables?\n",
        "\n",
        "Answer:\n",
        "An iterable is any object that can return an iterator (like lists, tuples), while an iterator is an object that maintains state and produces the next value when next() is called.\n",
        "\n",
        "Example:\n",
        "\n",
        "python\n",
        "my_list = [1,2,3]  # iterable\n",
        "my_iter = iter(my_list)  # iterator\n",
        "next(my_iter)  # returns 1\n",
        "\n",
        "6. Explain the concept of generators in Python and how they are defined.\n",
        "\n",
        "Answer:\n",
        "Generators are special functions that yield values one at a time using the yield keyword, maintaining their state between calls. They're memory efficient as they generate values on the fly.\n",
        "\n",
        "Example:\n",
        "\n",
        "python\n",
        "def count_up_to(n):\n",
        "    i = 1\n",
        "    while i <= n:\n",
        "        yield i\n",
        "        i += 1\n",
        "\n",
        "7. What are the advantages of using generators over regular functions?\n",
        "\n",
        "Answer:\n",
        "\n",
        "Memory efficient (generate values on demand)\n",
        "\n",
        "Can represent infinite streams of data\n",
        "\n",
        "Maintain state between calls automatically\n",
        "\n",
        "Cleaner code for certain problems\n",
        "\n",
        "Lazy evaluation (only compute when needed)\n",
        "\n",
        "8. What is a lambda function in Python and when is it typically used?\n",
        "\n",
        "Answer:\n",
        "A lambda function is an anonymous, single-expression function defined with the lambda keyword. It's typically used for short, simple operations where a full function definition would be verbose.\n",
        "\n",
        "Example:\n",
        "\n",
        "square = lambda x: x*x\n",
        "\n",
        "9. Explain the purpose and usage of the map() function in Python.\n",
        "\n",
        "Answer:\n",
        "map() applies a given function to each item of an iterable and returns a map object (an iterator). It's used to transform data without explicit loops.\n",
        "\n",
        "Example:\n",
        "\n",
        "numbers = [1, 2, 3]\n",
        "squared = map(lambda x: x**2, numbers)\n",
        "\n",
        "10. What is the difference between map(), reduce(), and filter() functions in Python?\n",
        "\n",
        "map(): Applies a function to all items in an iterable\n",
        "\n",
        "filter(): Selects items from an iterable where a function returns True\n",
        "\n",
        "reduce(): Cumulatively applies a function to reduce a sequence to a single value (from functools module)\n",
        "\n",
        "11. Using pen & Paper write the internal mechanism for sum operation using reduce function on this given list: [47,11,42,13]\n",
        "\n",
        "Answer:\n",
        "The sum operation using reduce would work as follows:\n",
        "\n",
        "Add 47 + 11 = 58\n",
        "\n",
        "Add 58 + 42 = 100\n",
        "\n",
        "Add 100 + 13 = 113\n"
      ],
      "metadata": {
        "id": "GbyQvLGvC7aV"
      }
    },
    {
      "cell_type": "markdown",
      "source": [
        "\n",
        "**Practical Questions**\n",
        "\n",
        "\n"
      ],
      "metadata": {
        "id": "MrquYpT9FXmO"
      }
    },
    {
      "cell_type": "markdown",
      "source": [
        "1. Write a Python function that takes a list of numbers as input and returns the sum of all even numbers in the list."
      ],
      "metadata": {
        "id": "pHrbW0fFm5D2"
      }
    },
    {
      "cell_type": "code",
      "source": [
        "def sum_even(numbers):\n",
        "    return sum(num for num in numbers if num % 2 == 0)"
      ],
      "metadata": {
        "id": "lDHmaHvnm5-y"
      },
      "execution_count": null,
      "outputs": []
    },
    {
      "cell_type": "markdown",
      "source": [
        "2. Create a Python function that accepts a string and returns the reverse of that string."
      ],
      "metadata": {
        "id": "zas1-kmanAeD"
      }
    },
    {
      "cell_type": "code",
      "source": [
        "def reverse_string(s):\n",
        "    return s[::-1]"
      ],
      "metadata": {
        "id": "f6DlPjMhm77u"
      },
      "execution_count": null,
      "outputs": []
    },
    {
      "cell_type": "markdown",
      "source": [
        "3. Implement a Python function that takes a list of integers and returns a new list containing the squares of each number."
      ],
      "metadata": {
        "id": "Xkiq2oksnK2u"
      }
    },
    {
      "cell_type": "code",
      "source": [
        "def square_list(numbers):\n",
        "    return [x**2 for x in numbers]"
      ],
      "metadata": {
        "id": "nKiXnoxCnP3o"
      },
      "execution_count": null,
      "outputs": []
    },
    {
      "cell_type": "markdown",
      "source": [
        "4. Write a Python function that checks if a given number is prime or not from 1 to 200."
      ],
      "metadata": {
        "id": "JpDyMpkynRxh"
      }
    },
    {
      "cell_type": "code",
      "source": [
        "def primes_up_to_200():\n",
        "    primes = []\n",
        "    for n in range(2, 201):\n",
        "        for i in range(2, int(n**0.5)+1):\n",
        "            if n % i == 0:\n",
        "                break\n",
        "        else:\n",
        "            primes.append(n)\n",
        "    return primes\n"
      ],
      "metadata": {
        "id": "pmp5IeGdnQyY"
      },
      "execution_count": null,
      "outputs": []
    },
    {
      "cell_type": "markdown",
      "source": [
        "5. Create an iterator class in Python that generates the Fibonacci sequence up to a specified number of terms."
      ],
      "metadata": {
        "id": "IVySilG-ntnq"
      }
    },
    {
      "cell_type": "code",
      "source": [
        "class Fibonacci:\n",
        "    def __init__(self, max_terms):\n",
        "        self.max = max_terms\n",
        "        self.count = 0\n",
        "        self.a, self.b = 0, 1\n",
        "\n",
        "    def __iter__(self):\n",
        "        return self\n",
        "\n",
        "    def __next__(self):\n",
        "        if self.count >= self.max:\n",
        "            raise StopIteration\n",
        "        result = self.a\n",
        "        self.a, self.b = self.b, self.a + self.b\n",
        "        self.count += 1\n",
        "        return result"
      ],
      "metadata": {
        "id": "xKwgi4UjnpdZ"
      },
      "execution_count": null,
      "outputs": []
    },
    {
      "cell_type": "markdown",
      "source": [
        "6. Write a generator function in Python that yields the powers of 2 up to a given exponent."
      ],
      "metadata": {
        "id": "PjeISiH6n11K"
      }
    },
    {
      "cell_type": "code",
      "source": [
        "def powers_of_two(max_exp):\n",
        "    for i in range(max_exp + 1):\n",
        "        yield 2 ** i"
      ],
      "metadata": {
        "id": "W4GYqqtinw2M"
      },
      "execution_count": null,
      "outputs": []
    },
    {
      "cell_type": "markdown",
      "source": [
        "7. Implement a generator function that reads a file line by line and yields each line as a string."
      ],
      "metadata": {
        "id": "JMpTQo8nn_PN"
      }
    },
    {
      "cell_type": "code",
      "source": [
        "def read_file_lines(filename):\n",
        "    with open(filename) as file:\n",
        "        for line in file:\n",
        "            yield line.strip()"
      ],
      "metadata": {
        "id": "AoJarFk0n8vT"
      },
      "execution_count": null,
      "outputs": []
    },
    {
      "cell_type": "markdown",
      "source": [
        "8. Use a lambda function in Python to sort a list of tuples based on the second element of each tuple."
      ],
      "metadata": {
        "id": "fNX23k8PoFRs"
      }
    },
    {
      "cell_type": "code",
      "source": [
        "# List of tuples\n",
        "tuple_list = [(1, 3), (4, 1), (2, 5), (3, 2)]\n",
        "\n",
        "# Sort using lambda function by second element (index 1)\n",
        "sorted_list = sorted(tuple_list, key=lambda x: x[1])\n",
        "\n",
        "# Print the sorted list\n",
        "print(sorted_list)\n"
      ],
      "metadata": {
        "colab": {
          "base_uri": "https://localhost:8080/"
        },
        "id": "_uftJEtEoGbS",
        "outputId": "92244ff2-4b1b-4801-a09f-e04c1a9f2891"
      },
      "execution_count": null,
      "outputs": [
        {
          "output_type": "stream",
          "name": "stdout",
          "text": [
            "[(4, 1), (3, 2), (1, 3), (2, 5)]\n"
          ]
        }
      ]
    },
    {
      "cell_type": "markdown",
      "source": [
        "9. Write a Python program that uses map() to convert a list of temperatures from Celsius to Fahrenheit."
      ],
      "metadata": {
        "id": "tiGZ3El8rifR"
      }
    },
    {
      "cell_type": "code",
      "source": [
        "celsius = [0, 10, 20, 30]\n",
        "fahrenheit = list(map(lambda c: (9/5)*c + 32, celsius))"
      ],
      "metadata": {
        "id": "LYKGjmfSoIe8"
      },
      "execution_count": null,
      "outputs": []
    },
    {
      "cell_type": "markdown",
      "source": [
        "10. Create a Python program that uses filter() to remove all the vowels from a given string."
      ],
      "metadata": {
        "id": "YBjmRZ2Armt8"
      }
    },
    {
      "cell_type": "code",
      "source": [
        "def remove_vowels(s):\n",
        "    vowels = 'aeiouAEIOU'\n",
        "    return ''.join(filter(lambda c: c not in vowels, s))"
      ],
      "metadata": {
        "id": "pRCHQHC5rllD"
      },
      "execution_count": null,
      "outputs": []
    },
    {
      "cell_type": "markdown",
      "source": [
        "11. Book shop accounting routine"
      ],
      "metadata": {
        "id": "ms0fwTPIuAs0"
      }
    },
    {
      "cell_type": "code",
      "source": [
        "orders = [\n",
        "    [34587, \"Learning Python, Mark Lutz\", 4, 40.95],\n",
        "    [98762, \"Programming Python, Mark Lutz\", 5, 56.80],\n",
        "    [77226, \"Head First Python, Paul Barry\", 3, 32.95],\n",
        "    [88112, \"Einführung in Python3, Bernd Klein\", 3, 24.99]\n",
        "]\n",
        "\n",
        "result = list(map(lambda x: (x[0], x[2]*x[3] + (10 if x[2]*x[3] < 100 else 0)), orders))"
      ],
      "metadata": {
        "id": "R6NX-Zn2uFaX"
      },
      "execution_count": null,
      "outputs": []
    }
  ]
}